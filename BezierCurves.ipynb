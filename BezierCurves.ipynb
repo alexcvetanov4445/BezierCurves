{
 "cells": [
  {
   "cell_type": "code",
   "execution_count": 1,
   "id": "70237d7c",
   "metadata": {},
   "outputs": [],
   "source": [
    "%matplotlib inline"
   ]
  },
  {
   "cell_type": "code",
   "execution_count": 2,
   "id": "e0939050",
   "metadata": {},
   "outputs": [],
   "source": [
    "import numpy as np\n",
    "import matplotlib.pyplot as plt\n",
    "import pandas as pd"
   ]
  },
  {
   "cell_type": "markdown",
   "id": "7fed8c2b",
   "metadata": {},
   "source": [
    "# Bézier Curves\n",
    "## Notebook by Alex Tsvetanov\n",
    "\n",
    "This is a project made for an exam that's solving 2 problems that I have encountered during my journey of learning the concept and behavior of the Bézier curves. I preferred to go in depth with the code that I wrote but with a simple and not so academical explanation to some concepts that i struggled at first. That being said, the target audiece is considered to be at a beginner stage into math. Enjoy the read!"
   ]
  },
  {
   "cell_type": "markdown",
   "id": "1509eeee",
   "metadata": {},
   "source": [
    "### Contents:\n",
    "1. [What is a Bézier Curve?](#1.-What-is-a-Bézier-Curve?)\n",
    "2. [Basic explanation of how it works](#2.-Basic-explanation-of-how-it-works)\n",
    "3. [The problems](#3.-The-problems)\n",
    "\t1. Problem 1: A way to make it recursive\n",
    "\t2. Problem 2: A way to evenly distribute the t values defining the curve\n",
    "4. [Problem 1](#Problem-1:-A-way-to-make-it-recursive)\n",
    "\t1. Introduction\n",
    "\t2. Solution\n",
    "5. [Problem 2](#Problem-2:-A-way-to-evenly-distribute-the-points-defining-the-curve)\n",
    "\t1. Introduction\n",
    "\t2. Solution\n",
    "6. [Performance testing](#Performance-testing)\n",
    "7. [Playing around](#Playing-around)\n",
    "8. [Final thoughts](#Final-thoughts)"
   ]
  },
  {
   "cell_type": "markdown",
   "id": "03290fe4",
   "metadata": {},
   "source": [
    "### 1. What is a Bézier Curve?\n",
    "If you ever did something with Adobe Photoshop, Illustrator or even played video games you probably have encountered those beautiful curves. That's because they are used mainly in computer graphics and are \"expressed\" in a mathematical way. An interesting fact is that the Bézier Curve was named after the French engineer Pierre Bézier, who actually popularized it but did not invent it. The curve was invented by Paul de Casteljau. Pierre used them for defining curves for the design of Renault cars. Sure, if you check some retro models of Renault you will see how cool those cars were. I wonder if the design trend will ever be back. Anyways, he developed the notation, consisting of nodes with attached control handles defining the shape of the curve. We will see and understand them later! That's important because we can approximate a real-world shape that otherwise has no mathematical representation or it will be too complicated to write down mathematically. Cool thing is that we don't really need an explanation of \"what it is\" because it's pretty visual and pleasing for the eye but the \"scary\" and powerful thing hides under the hood (not talking about cars...).\n",
    "Let's dive into it!"
   ]
  },
  {
   "cell_type": "markdown",
   "id": "319a6417",
   "metadata": {},
   "source": [
    "### 2. Basic explanation of how it works\n",
    "Imagine that we have a straight line. That's it... It's boring and we need to make it a bit more interesting. Let's introduce the control points! With them, we can make our boring straight line more curvy. If we have 2 control points $P1$ and $P2$, there will be no curve at all but if we add more... well we can still have a straight line if all the points are on the same axis. Take a look at this example:\n"
   ]
  },
  {
   "cell_type": "markdown",
   "id": "ff45b238",
   "metadata": {},
   "source": [
    "<img src=\"img/AnimationLinear.gif\" style=\"max-height: 300px\" alt=\"Linear bezier\" />"
   ]
  },
  {
   "cell_type": "markdown",
   "id": "86d79d3f",
   "metadata": {},
   "source": [
    "We can see that there is an unknown \"t\" variable which as we increase or decrease, moves some control points with it. This is a linear interpolation. We can understand it better if we move the control points a bit:\n"
   ]
  },
  {
   "cell_type": "markdown",
   "id": "f7ee56d2",
   "metadata": {},
   "source": [
    "<img src=\"img/AnimationCurveTo0Point5.gif\" style=\"max-height: 350px\" alt=\"Bezier changing t value\" />"
   ]
  },
  {
   "cell_type": "markdown",
   "id": "1025bd22",
   "metadata": {},
   "source": [
    "Wow! A curve? More lines? Hold on, let's analyze that. We have:\n",
    "\n",
    "- a $\\normalsize t$ value that always has a range from 0 to 1\n",
    "- the \"main\" lines that connect the control points $P1$, $P2$, $P3$, $P4$\n",
    "- points that land on the lines connecting the control points $P5$, $P6$, $P7$, $P8$, $P9$\n",
    "- dotted lines that connect the points $P5$, $P6$, $P7$, $P8$, $P9$\n",
    "- a point $BZ$ which lands between $P8$ and $P9$\n",
    "\n",
    "$P5$, $P6$, $P7$, $P8$, $P9$ are linearly interpolated points. Their position on the main lines depends on the $\\normalsize t$ value. Imagine it that way: when $\\normalsize t$ is 0, that's the beginning of the line. If we change it to 0.25 it will mean that the interpolated point will be moved by 25% from the beginning. If $\\normalsize t$ is 1 - we are at the end. We can see that the behavior is the same for every line we define. Everything is repeated or in other words - it's recursive. That's the first thing that caught my eye, actually.\n",
    "\n",
    "If we look closely we can see the final point $BZ$. Somehow, it always lands on the curve. That's because it is the one drawing it. Following that logic we can come to the conclusion that more $\\normalsize t$ values generated means more bezier points and therefore a better curve.\n",
    "\n",
    "Now we have a basic understanding of how the curve is generated. You can play with the curve at GeoGebra using [this](https://www.geogebra.org/m/WPHQ9rUt) project from the unknown user \"user17128\" for example.\n",
    "\n",
    "Let's clarify how to interpolate a point within a line. We can use this formula:"
   ]
  },
  {
   "cell_type": "markdown",
   "id": "723c3429",
   "metadata": {},
   "source": [
    "$$ B(t)=P_0+t(P_1-P_0)=(1-t)P_0+tP_1$$\n",
    "$$0\\leq{t}\\leq1$$"
   ]
  },
  {
   "cell_type": "markdown",
   "id": "6b6637b2",
   "metadata": {},
   "source": [
    "It accepts only two points because it is a linear formula. It's pretty simple and there is nothing to worry about. If we have 3 control points we can use the formula for a quadratic bezier or if the points are 4 - the cubic bezier. Take a look at the [Wikipedia](https://en.wikipedia.org/wiki/B%C3%A9zier_curve#Specific_cases) page. \n",
    "\n",
    "Cool, but I wanted to create a function which can accept $n$ points and render a curve so I can experiment easier with it."
   ]
  },
  {
   "cell_type": "markdown",
   "id": "8a7b4fa1",
   "metadata": {},
   "source": [
    "### 3. The problems\n",
    "As I was looking at the different ways to calculate a Bézier curve I have encountered the recursive formula which immediately grabbed my attention. After I played a bit with the basic linear formula that we just saw, I had the idea of executing it multiple times with all control points until I find the last bezier point $BZ$. Once I have this function I can use it in many different ways to plot a curve of my choise. That's perfect!\n",
    "\n",
    "Along this journey I found out that there is a problem with the bezier points that I render on the coordinate system. They were not positioned at an equal distance even if the incrementation of the $\\normalsize t$ value was equal each time. I needed to fix that."
   ]
  },
  {
   "cell_type": "markdown",
   "id": "9e84d608",
   "metadata": {},
   "source": [
    "#### Problem 1: A way to make it recursive\n",
    "\n",
    "So, I already defined the first problem. I wanted to use the linear formula and execute it until I have only 2 control points left which after applying the formula for the last time will give me the bezier point. It may sound a bit difficult at first so I created a flowchart which shows... well... the flow of the operation. I'm a visual learner so I hope that helps you too:  \n"
   ]
  },
  {
   "cell_type": "markdown",
   "id": "fed1afab",
   "metadata": {},
   "source": [
    "<img src=\"img/bezier_point_recursive.png\" style=\"max-height: 550px\" alt=\"Recursive function diagram\" />"
   ]
  },
  {
   "cell_type": "markdown",
   "id": "8fa11b71",
   "metadata": {},
   "source": [
    "In the diagram we pass the following input parameters:\n",
    "- $\\normalsize t$ with value 0.75\n",
    "- 4 control points ([2, 0], [12, 4], [0, 8], [4, 3]) which make a cubic bezier\n",
    "\n",
    "Let's follow along. The first time we execute ``bezier_point_recursive(points, t)`` it will return 3 new control points (follow the blue path). After that we check if the point is one because if it is, it will be our bezier point and the recursion should be terminated. In the first case it's not, so it invokes itself again. We go through the red path which also returns false at the check and voilà - the green output is our $BZ$ point. This is the case when $\\normalsize t$ equals 0.75. Imagine that we execute this function with $\\dfrac{1}{n - 1}$ values where $n$ is the number of points that we want to render and form a curve. Deviding 1 because $0\\leq{t}\\leq1$. For example let's say that we want 5 bezier points. Calculating the incremental value $\\dfrac{1}{5 - 1}$ is 0.25. Accumulate exactly $n - 1$ times starting from 0 and the $\\normalsize t$ values will be 0, 0.25, 0.50, 0.75, 1.\n",
    "Now we have enough information. Let's see the solution."
   ]
  },
  {
   "cell_type": "markdown",
   "id": "d11fcbfb",
   "metadata": {},
   "source": [
    "##### Solution\n",
    "\n",
    "We'll begin with a basic function which calculates a linear Bézier. One thing to mention before we proceed is that I chose the numpy array over python lists because the whole process of rendering a \"pretty\" curve will be computationally heavy and it will become even heavier in the second problem that we'll solve. Stick around and you will find out why ;). Back to the function - it will accept 2 control points and a t value. Using numpy it should look like this:"
   ]
  },
  {
   "cell_type": "code",
   "execution_count": 3,
   "id": "525fc91d",
   "metadata": {},
   "outputs": [],
   "source": [
    "def calc_linear_bezier(p0, p1, t):\n",
    "    \"\"\"\n",
    "    Calculates a linear bezier point parameterized by t by using the linear formula.\n",
    "    Arguments:\n",
    "        p0, p1: control point. Numpy array or list with coordinates in format [x, y]\n",
    "        t: \"t\" value. Integer between 0 and 1 inclusive\n",
    "    Returns:\n",
    "        The coordinates of the calculated bezier point in format [x, y] and of numpy array type.\n",
    "    \"\"\"\n",
    "    return np.dot(1-t, p0) + np.dot(t, p1)"
   ]
  },
  {
   "cell_type": "markdown",
   "id": "e9e74244",
   "metadata": {},
   "source": [
    "Nothing shiny here but It's an essential. Compare it with the mathematical representation of the formula. We will be using it in our recursive function. Speaking of the devil, let's see how `bezier_point_recursive(points, t)` looks."
   ]
  },
  {
   "cell_type": "code",
   "execution_count": 4,
   "id": "7b1a4ce7",
   "metadata": {},
   "outputs": [],
   "source": [
    "def bezier_point_recursive(points, t):\n",
    "    \"\"\"\n",
    "    Calculates a bezier point parameterized by t with a given set of control points.\n",
    "    Arguments:\n",
    "        points: control points. A numpy array with coordinates in format [x, y]\n",
    "        t: \"t\" value. Integer between 0 and 1 inclusive\n",
    "    Returns:\n",
    "        The coordinates of the calculated bezier point in format [x, y] and of numpy array type.\n",
    "    \"\"\"\n",
    "    new_points = np.empty([len(points) - 1, 2])\n",
    "    \n",
    "    for i in range(len(points) - 1):\n",
    "        point = calc_linear_bezier(points[i], points[i + 1], t)\n",
    "        new_points[i] = point\n",
    "    \n",
    "    if len(new_points) == 1:\n",
    "        return new_points[0]\n",
    "    \n",
    "    return bezier_point_recursive(new_points, t)"
   ]
  },
  {
   "cell_type": "markdown",
   "id": "45bba75c",
   "metadata": {},
   "source": [
    "First, we define the array `new_points`. Every point that is returned by `calc_linear_bezier` is added to this array with predefined space. You can see that we iterate `len(points) - 1`. That's because we look one step forward each time to get a pair of 2 control points. After the loop is done, we perform the check (known from the diagram) and decide if we are at the end and this is the $BZ$ point. That's it. Not so hard after all. Now let's check if it works. We can proof that with the cubic Bézier formula. It looks like this:"
   ]
  },
  {
   "cell_type": "markdown",
   "id": "b253cca3",
   "metadata": {},
   "source": [
    "$$ B(t)=(1-t)^3P_0+3(1-t)^2tP_1+3(1-t)t^2P_2+t^3P_3$$"
   ]
  },
  {
   "cell_type": "markdown",
   "id": "27f55274",
   "metadata": {},
   "source": [
    "And made as a python function it looks unpleasant but I made it just for proofing so It's acceptable:"
   ]
  },
  {
   "cell_type": "code",
   "execution_count": 5,
   "id": "9cca70a4",
   "metadata": {},
   "outputs": [],
   "source": [
    "def calc_cubic_bezier(p0, p1, p2, p3, t):\n",
    "    \"\"\"\n",
    "    Calculates a cubic bezier point parameterized by t by using the cubic Bezier formula.\n",
    "    Arguments:\n",
    "        p0, p1, p2, p3: control point. Numpy array or list with coordinates in format [x, y]\n",
    "        t: \"t\" value. Integer between 0 and 1 inclusive\n",
    "    Returns:\n",
    "        The coordinates of the calculated bezier point in format [x, y] and of numpy array type.\n",
    "    \"\"\"\n",
    "    u = 1 - t\n",
    "    return np.dot(pow(u, 3), p0) + np.dot(3 * pow(u, 2) * t, p1) + np.dot(3 * u * pow(t, 2), p2) + np.dot(pow(t, 3), p3)"
   ]
  },
  {
   "cell_type": "markdown",
   "id": "e24beb69",
   "metadata": {},
   "source": [
    "Let's calculate the points from our diagram with $t=0.75$"
   ]
  },
  {
   "cell_type": "code",
   "execution_count": 6,
   "id": "7cf1f0e5",
   "metadata": {},
   "outputs": [],
   "source": [
    "points = np.array([[2,0],[12,4],[0,8],[4,3]])\n",
    "result_recursive = bezier_point_recursive(points, 0.75)\n",
    "result_formula = calc_cubic_bezier(points[0], points[1], points[2], points[3], 0.75)\n",
    "\n",
    "np.testing.assert_array_equal(result_recursive, result_formula)"
   ]
  },
  {
   "cell_type": "markdown",
   "id": "8311d8cd",
   "metadata": {},
   "source": [
    "As you can see, the results are the same and we can proceed with our next function which will generate the $\\normalsize t$ values and pass them to the recursive function. I've already mentioned that the $\\normalsize t$ values will be $\\dfrac{1}{n - 1}$ so we'll have the freedom to generate as many $\\normalsize t$ values as we like. Here is what I'm talking about:"
   ]
  },
  {
   "cell_type": "code",
   "execution_count": 7,
   "id": "74d803d0",
   "metadata": {},
   "outputs": [],
   "source": [
    "def bezier_curve_equal_t_points(c_points, n):\n",
    "    \"\"\"\n",
    "    Produces \"n\" bezier points by generating and evenly distributing \"t\" values. \n",
    "    Arguments:\n",
    "        c_points: control points. Numpy array with coordinates in format [x, y]\n",
    "        n: the total number of points to generate. An integer\n",
    "    Returns:\n",
    "        A numpy array with the coordinates of the calculated bezier points.\n",
    "    \"\"\"\n",
    "    t_incr = 1 / (n - 1)\n",
    "    t = 0\n",
    "    bz_points = np.empty([n, 2])\n",
    "    for i in range(n):\n",
    "        interpolated_point = bezier_point_recursive(c_points, t)\n",
    "        bz_points[i] = interpolated_point\n",
    "        t += t_incr\n",
    "    return bz_points"
   ]
  },
  {
   "cell_type": "markdown",
   "id": "5570d0b8",
   "metadata": {},
   "source": [
    "Notice how it loops $n$ times and invokes the recursive function, each time passing the same control points and an incremented $\\normalsize t$. Then it stores the $BZ$ points to the `bz_points` array. Let's generate 5 $BZ$ points!"
   ]
  },
  {
   "cell_type": "code",
   "execution_count": 8,
   "id": "4430d553",
   "metadata": {
    "scrolled": true
   },
   "outputs": [
    {
     "data": {
      "text/plain": [
       "array([[2.      , 0.      ],\n",
       "       [5.96875 , 2.859375],\n",
       "       [5.25    , 4.875   ],\n",
       "       [3.40625 , 5.203125],\n",
       "       [4.      , 3.      ]])"
      ]
     },
     "execution_count": 8,
     "metadata": {},
     "output_type": "execute_result"
    }
   ],
   "source": [
    "bezier_curve_equal_t_points(points, 5)"
   ]
  },
  {
   "cell_type": "markdown",
   "id": "548970d8",
   "metadata": {},
   "source": [
    "That's it! We have the points of the curve. This means that we can plot it. I've created this simple plot function which takes the control points and our fresh new $BZ$ points. It has the input parameter `cp_lines` which allows us to hide the control points and the lines connecting them, leaving only the curve. There are a couple more parameters which we will not use, except in the section \"Playing around\"."
   ]
  },
  {
   "cell_type": "code",
   "execution_count": 9,
   "id": "5a26a92a",
   "metadata": {},
   "outputs": [],
   "source": [
    "def plot_bezier_coordinates(control_points, bz_points, cp_lines = True, xlim = None, ylim = None, equal_aspect = False, title = None):\n",
    "    \"\"\"\n",
    "    Plots a Bezier curve points and optionally the control points with the connecting lines.\n",
    "    Arguments:\n",
    "        c_points: control points. Numpy array with coordinates in format [x, y]\n",
    "        bz_points: bezier points. Numpy array with coordinates in format [x, y]\n",
    "        cp_lines: boolean defining if the control points will be rendered. A boolean with default value - True\n",
    "        xlim: defines the x limits. Numpy array with coordinates in format [left, right]\n",
    "        ylim: defines the y limits. Numpy array with coordinates in format [left, right]\n",
    "        equal_aspect: boolean defining if the aspect ratio should be equal for x and y. A boolean with default value - False\n",
    "        title: string setting the title of the plot. Defaults to None\n",
    "    \"\"\"\n",
    "    x_bz = bz_points[:,0]\n",
    "    y_bz = bz_points[:,1]\n",
    "    plt.scatter(x_bz, y_bz, label=\"bz point\")\n",
    "    \n",
    "    if cp_lines:\n",
    "        x_control_point = control_points[:,0]\n",
    "        y_control_point = control_points[:,1]\n",
    "        plt.scatter(x_control_point, y_control_point, color=\"red\", label=\"control point\")\n",
    "        plt.plot(x_control_point, y_control_point, linestyle=\"--\", markersize=7, color=\"red\")\n",
    "    \n",
    "    if xlim != None:\n",
    "        plt.xlim(xlim[0], xlim[1])\n",
    "\n",
    "    if ylim != None:\n",
    "        plt.ylim(ylim[0], ylim[1])\n",
    "        \n",
    "    if title != None:\n",
    "        plt.title(title)\n",
    "\n",
    "    if equal_aspect:\n",
    "        plt.gca().set_aspect('equal', adjustable='box')\n",
    "\n",
    "    plt.xlabel(\"x\")\n",
    "    plt.ylabel(\"y\")\n",
    "    plt.legend()\n",
    "\n",
    "    plt.show()"
   ]
  },
  {
   "cell_type": "markdown",
   "id": "a95e1bce",
   "metadata": {},
   "source": [
    "Let's try it out with some more $BZ$ points."
   ]
  },
  {
   "cell_type": "code",
   "execution_count": 10,
   "id": "4a2a6c7f",
   "metadata": {},
   "outputs": [
    {
     "data": {
      "image/png": "[encoded data removed]",
      "text/plain": [
       "<Figure size 432x288 with 1 Axes>"
      ]
     },
     "metadata": {
      "needs_background": "light"
     },
     "output_type": "display_data"
    },
    {
     "data": {
      "image/png": "[encoded data removed]",
      "text/plain": [
       "<Figure size 432x288 with 1 Axes>"
      ]
     },
     "metadata": {
      "needs_background": "light"
     },
     "output_type": "display_data"
    }
   ],
   "source": [
    "bz_points = bezier_curve_equal_t_points(points, 30)\n",
    "plot_bezier_coordinates(points, bz_points, title=\"BZ points With control points\")\n",
    "plot_bezier_coordinates(points, bz_points, cp_lines=False, equal_aspect=True, title=\"BZ points only\")"
   ]
  },
  {
   "cell_type": "markdown",
   "id": "9e94df35",
   "metadata": {},
   "source": [
    "Now we finally see what it's all about. We've successfully rendered a bezier curve and that's super satisfying but one thing keeps bothering me. Look how the dots are not equally spaced. Even though we pass an equally spaced $\\normalsize t$ values the points are not interpolated right. That's because we parameterize by $\\normalsize t$ and not by the arc length of the curve. Knowing the arc length will do us a favor because we can devide the curve in terms of a distance. Not spacing the dots equally is not only annoying but it's actually stopping the bezier curves to be useful. This is our second problem."
   ]
  },
  {
   "cell_type": "markdown",
   "id": "73ce3a41",
   "metadata": {},
   "source": [
    "#### Problem 2: A way to evenly distribute the points defining the curve"
   ]
  },
  {
   "cell_type": "markdown",
   "id": "143549ed",
   "metadata": {},
   "source": [
    "If we are only drawing the line of the curve It's all fine. We don't bother much about the spacing rather then the granularity. Why? Because we want a nice non-edgy curve and the solution is easy - just generate more dots. But if you wonder why we would ever need them equally spaced I have an example for you. Actually there is an interesting article about this example and [here](http://www.planetclegg.com/projects/WarpingTextToSplines.html) it is. Everybody knows Microsoft Powerpoint and It's fancy features, one of them being able to make a graffiti-like texts with the provided templates. In this case we have a curve above which the words are placed. Guess how they are spaced, hehe. Look at the pictures from the article and notice how the alphabets shrink on the left picture:"
   ]
  },
  {
   "cell_type": "markdown",
   "id": "c8f2f161",
   "metadata": {},
   "source": [
    "<table><tr>\n",
    "<td> <img src=\"img/BeforeArcLengthParam.png\" style=\"max-height: 300px\" alt=\"Bezier changing t value\" /> </td>\n",
    "<td> <img src=\"img/AfterArcLengthParam.png\" style=\"max-height: 300px\" alt=\"Bezier changing t value\" /> </td>\n",
    "</tr></table>"
   ]
  },
  {
   "cell_type": "markdown",
   "id": "24459101",
   "metadata": {},
   "source": [
    "Unfortunately there isn't an easy solution for the so-called \"Arc Length Parameterization\" or at least I haven't found one. So I tried to understand the method of Freya Holmer in her stunning video [The Beauty of Bézier Curves](https://www.youtube.com/watch?v=aVwxzDHniEw) and started coding around the concept. But because it's more like an overview on the subject, it required a lot of additional digging and experimenting on my side. \n",
    "\n",
    "First, I tried to create the [Lookup table](https://en.wikipedia.org/wiki/Lookup_table) (LUT). If you wonder what it is - it's simply an array created in the runtime (although not always but in our case - yes) and organized in a way that obtaining a certain value is possible by passing a key. In our case the key would be a distance and the value would be the $\\normalsize t$. When we pass our \"new\" $\\normalsize t$ value to the recursive function, the bezier point will be rendered at the desired distance. One thing is very important - how rich is our LUT in terms of stored mapped distances? Well, the function that I made is dynamic and we can choose how much. On one side the computation will be heavy and on the other - light but not so precise.\n",
    "\n",
    "Now, how to create it? The function generating the LUT is using the recursive function. It executes it $n$ times and each time it increases the $\\normalsize t$ value slightly. After obtaining a pair or $BZ$ points it uses the [Trapezoidal rule](https://en.wikipedia.org/wiki/Trapezoidal_rule) to take only the hypotenuse of the formed triangle using the pythagorean theorem. Sounds a bit complicated but it really isn't. Take a look at this animation from Wiki and my notation on the right:"
   ]
  },
  {
   "cell_type": "markdown",
   "id": "ca199f0e",
   "metadata": {},
   "source": [
    "<table><tr>\n",
    "<td> <img src=\"img/TrapezoidalRule.gif\" style=\"max-height: 300px\" alt=\"Bezier changing t value\" /> </td>\n",
    "<td> <img src=\"img/TrapezoidalRuleArcLen.png\" style=\"max-height: 300px\" alt=\"Bezier changing t value\" /> </td>\n",
    "</tr></table>"
   ]
  },
  {
   "cell_type": "markdown",
   "id": "a38c1762",
   "metadata": {},
   "source": [
    "##### Solution"
   ]
  },
  {
   "cell_type": "markdown",
   "id": "96c546bf",
   "metadata": {},
   "source": [
    "To get the hypotenuse we need the other 2 sides of the triangle. $dx$ is the distance between the $x$ coordinates of the current two $BZ$ points and $dy$ is the distance between the $y$ coordinates. To get the values we will need a seperate function because there a 3 different cases for calculation:\n",
    "- both input values are positive\n",
    "- both input values are negative\n",
    "- one is negative, the other is positive\n",
    "\n",
    "The function `calc_dist_between(x1, x2)` determines how to calculate this distance."
   ]
  },
  {
   "cell_type": "code",
   "execution_count": 11,
   "id": "31fb121a",
   "metadata": {},
   "outputs": [],
   "source": [
    "def calc_dist_between(x1, x2):\n",
    "    \"\"\"\n",
    "    Calculates the distance between two numbers - x1 and x2.\n",
    "    Arguments:\n",
    "        x1: an integer\n",
    "        x2: an integer\n",
    "    Returns:\n",
    "        An integer indicating the distance between x1 and x2.\n",
    "    \"\"\"\n",
    "    x1_abs = abs(x1)\n",
    "    x2_abs = abs(x2)\n",
    "\n",
    "    if (x1 < 0 and x2 > 0) or (x2 < 0 and x1 > 0):\n",
    "        return x1_abs + x2_abs\n",
    "\n",
    "    if x1_abs > x2_abs:\n",
    "        return x1_abs - x2_abs\n",
    "\n",
    "    return x2_abs - x1_abs"
   ]
  },
  {
   "cell_type": "code",
   "execution_count": 12,
   "id": "541b84d9",
   "metadata": {},
   "outputs": [],
   "source": [
    "# some tests to ensure correctness.\n",
    "assert calc_dist_between(-7, -5) == 2\n",
    "assert calc_dist_between(-5, -7) == 2\n",
    "assert calc_dist_between(-3, 7) == 10\n",
    "assert calc_dist_between(7, -3) == 10\n",
    "assert calc_dist_between(0, 5) == 5\n",
    "assert calc_dist_between(5, 0) == 5\n",
    "assert calc_dist_between(-5, 0) == 5\n",
    "assert calc_dist_between(0, -5) == 5"
   ]
  },
  {
   "cell_type": "markdown",
   "id": "db9fb086",
   "metadata": {},
   "source": [
    "Once we have it, we can proceed with the next function responsible for generating the LUT."
   ]
  },
  {
   "cell_type": "code",
   "execution_count": 13,
   "id": "eed7c9a2",
   "metadata": {},
   "outputs": [],
   "source": [
    "def get_lut(c_points, lut_size):\n",
    "    \"\"\"\n",
    "    Generates an array of pairs (or so-called LUT). Each pair consists of a distance and a \"t\" value.\n",
    "    Arguments:\n",
    "        c_points: control points. Numpy array with coordinates in format [x, y]\n",
    "        lut_size: the total number of pairs to generate. An integer\n",
    "    Returns:\n",
    "        The LUT with the desired size. A numpy array.\n",
    "    \"\"\"\n",
    "    arc_lengths = range(1, lut_size)\n",
    "    \n",
    "    multiplier = 1 / (lut_size - 1) # since the max t value is 1 devide it by the points to get the multiplier\n",
    "    \n",
    "    lut = np.empty([lut_size, 2])\n",
    "    lut[0] = [0, 0]\n",
    "    \n",
    "    curr_curve_len = 0\n",
    "\n",
    "    f = bezier_point_recursive(c_points, 0)\n",
    "    for i in arc_lengths:\n",
    "        t_next = i * multiplier\n",
    "        f_next = bezier_point_recursive(c_points, t_next)\n",
    "        \n",
    "        dx = calc_dist_between(f[0], f_next[0])\n",
    "        dy = calc_dist_between(f[1], f_next[1])\n",
    "        hypotenuse_len = np.sqrt(dx * dx + dy * dy) # pythagorean theorem\n",
    "        \n",
    "        curr_curve_len += hypotenuse_len\n",
    "        lut[i] = [curr_curve_len, t_next]\n",
    "        f = f_next\n",
    "    \n",
    "    return lut"
   ]
  },
  {
   "cell_type": "code",
   "execution_count": 14,
   "id": "c5a9065a",
   "metadata": {},
   "outputs": [],
   "source": [
    "# a quick check to ensure that the methods generates the correct count of records.\n",
    "lut_size = 5\n",
    "assert len(get_lut(points, lut_size)) == lut_size"
   ]
  },
  {
   "cell_type": "markdown",
   "id": "516d913c",
   "metadata": {},
   "source": [
    "As you can see, it accepts the control points of the curve and the size of the LUT. I already mentioned that by choosing size we sacrafice precision or performance. The `arc_lengths` is a sequence of numbers starting from 1. It is used by the loop and starts from 1 because we need the `i` value to generate the `t_next`. More for this variable in a bit. First take a look at `multiplier`. It is created by deviding 1 with the size of our table minus 1. It's best to understand it with examples.\n",
    "\n",
    "If we have a LUT with size of 5, our multiplier will be 0.25. We'll multiply the `i` variable each iteratation of the loop. This means that `t_next` will have a total of $5-1=4$ values. We subtract 1 because the first value is already inserted before the loop like `lut[0] = [0, 0]`. So the first calculation in the following example is for clarity and it is not actually done:\n",
    "$$0\\cdot0.25 = 0$$\n",
    "$$1\\cdot0.25 = 0.25$$\n",
    "$$2\\cdot0.25 = 0.50$$\n",
    "$$3\\cdot0.25 = 0.75$$\n",
    "$$4\\cdot0.25 = 1$$\n",
    "Notice how the values are always between 0 and 1. They are also evenly spaced. This reminds us of our `bezier_curve_equal_t_points` because it's doing mostly the same thing. Also, if we have a bigger LUT size the difference between the values will be smaller and therefore the precision will be better. You will get a hang of it once we execute it. \n",
    "\n",
    "`f` and `f_next` are the coordinates returned by our recursive function. The first time we generate a point with a given $\\normalsize t$ and then we use the multiplier to generate a second one $\\normalsize t$ with a slight difference. That's why we have two function result variables. Once the points are 2 we can calculate the difference between them. Here goes the `calc_dist_between` I already talked about. As you can see, it's calculating $dx$ and $dy$. Then the values are used in a pythagorean theorem to get the hypotenuse. If you are lost just look at the last pictures above and try to figure it out visually. Finally, we add a new pair of values to `lut` in a way that the key is a distance and the value is $\\normalsize t$\n",
    "\n",
    "Lets try the function by generating a LUT with a size of 5. We'll render the curves in "
   ]
  },
  {
   "cell_type": "code",
   "execution_count": 15,
   "id": "7cd76a91",
   "metadata": {},
   "outputs": [
    {
     "data": {
      "text/html": [
       "<div>\n",
       "<style scoped>\n",
       "    .dataframe tbody tr th:only-of-type {\n",
       "        vertical-align: middle;\n",
       "    }\n",
       "\n",
       "    .dataframe tbody tr th {\n",
       "        vertical-align: top;\n",
       "    }\n",
       "\n",
       "    .dataframe thead th {\n",
       "        text-align: right;\n",
       "    }\n",
       "</style>\n",
       "<table border=\"1\" class=\"dataframe\">\n",
       "  <thead>\n",
       "    <tr style=\"text-align: right;\">\n",
       "      <th></th>\n",
       "      <th>distance</th>\n",
       "      <th>t</th>\n",
       "    </tr>\n",
       "  </thead>\n",
       "  <tbody>\n",
       "    <tr>\n",
       "      <th>1</th>\n",
       "      <td>0.000000</td>\n",
       "      <td>0.00</td>\n",
       "    </tr>\n",
       "    <tr>\n",
       "      <th>2</th>\n",
       "      <td>4.891523</td>\n",
       "      <td>0.25</td>\n",
       "    </tr>\n",
       "    <tr>\n",
       "      <th>3</th>\n",
       "      <td>7.031464</td>\n",
       "      <td>0.50</td>\n",
       "    </tr>\n",
       "    <tr>\n",
       "      <th>4</th>\n",
       "      <td>8.904184</td>\n",
       "      <td>0.75</td>\n",
       "    </tr>\n",
       "    <tr>\n",
       "      <th>5</th>\n",
       "      <td>11.185916</td>\n",
       "      <td>1.00</td>\n",
       "    </tr>\n",
       "  </tbody>\n",
       "</table>\n",
       "</div>"
      ],
      "text/plain": [
       "    distance     t\n",
       "1   0.000000  0.00\n",
       "2   4.891523  0.25\n",
       "3   7.031464  0.50\n",
       "4   8.904184  0.75\n",
       "5  11.185916  1.00"
      ]
     },
     "execution_count": 15,
     "metadata": {},
     "output_type": "execute_result"
    }
   ],
   "source": [
    "def lut_to_dataframe(lut):\n",
    "    frame = pd.DataFrame(data=lut) # using Pandas to get a better visuals for our LUT data.\n",
    "    frame.columns = [\"distance\", \"t\"]\n",
    "    frame.index += 1\n",
    "    return frame\n",
    "\n",
    "lut = get_lut(points, 5)\n",
    "lut_frame = lut_to_dataframe(lut)\n",
    "lut_frame"
   ]
  },
  {
   "cell_type": "markdown",
   "id": "d8c1fba8",
   "metadata": {},
   "source": [
    "An important thing to note here is that the last pair holds the total length of the curve. Well, an approximation of it because if we have more pairs it will be more accurate (but not always, just wait for the examples :) ). We'll use that information in our next function. It's called `distance_to_t` and it does what it says, thankfully. It's a mapper and accepts a desired distance, goes through the LUT and finds the $\\normalsize t$ with a paired distance closest to our desired one."
   ]
  },
  {
   "cell_type": "code",
   "execution_count": 16,
   "id": "6b68a252",
   "metadata": {},
   "outputs": [],
   "source": [
    "def distance_to_t(dist, lut):\n",
    "    \"\"\"\n",
    "    Iterates through the provided LUT and finds the pair with the closest distance to the input.\n",
    "    Arguments:\n",
    "        dist: The desired distance that the returned \"t\" will represent. A float\n",
    "        lut: The LUT that it will use to extract the \"t\" value. A numpy array\n",
    "    Returns:\n",
    "        An integer \"t\" value within the range of 0 and 1 inclusive.\n",
    "    \"\"\"\n",
    "    n = len(lut) - 1\n",
    "    arc_len = lut[len(lut) - 1][0]\n",
    "    if (dist > arc_len): return 0\n",
    "    \n",
    "    for i in range(n):\n",
    "        prev_dist = lut[i][0]\n",
    "        next_dist = lut[i + 1][0]\n",
    "        # if the distance is between the current 2 distances from the lut, return the closest distance t value\n",
    "        if (dist >= prev_dist and dist <= next_dist):\n",
    "            # figure out which one is closer\n",
    "            close_to_prev = dist - prev_dist\n",
    "            close_to_next = next_dist - dist\n",
    "            if (close_to_prev <= close_to_next):\n",
    "                return lut[i][1]\n",
    "            else:\n",
    "                return lut[i + 1][1]"
   ]
  },
  {
   "cell_type": "markdown",
   "id": "d9bfb7b2",
   "metadata": {},
   "source": [
    "The logic is a bit repetitive as in the other functions. We see a loop that iterates `n` times. There is an `arc_len` which is the total length of the curve. We use it to check if the passed distance is in the range of our curve. In the loop we always get a pair of 2 LUT records (perhaps a pair of pairs?). It's doing it because it checks if the distance is between them. If it isn't, just continues to the next pair. But if it does, then one more check is performed - which pair distance is closer to the desired one? Once it finds that out - we are done. The desired $\\normalsize t$ is found and by using it we will get a point with a distance close to the one we want. \n",
    "\n",
    "Let's see some examples with a low and high precision. First, we are going to use the LUT from the first table that we created with only 5 records:"
   ]
  },
  {
   "cell_type": "code",
   "execution_count": 17,
   "id": "18740d03",
   "metadata": {},
   "outputs": [
    {
     "data": {
      "text/html": [
       "<div>\n",
       "<style scoped>\n",
       "    .dataframe tbody tr th:only-of-type {\n",
       "        vertical-align: middle;\n",
       "    }\n",
       "\n",
       "    .dataframe tbody tr th {\n",
       "        vertical-align: top;\n",
       "    }\n",
       "\n",
       "    .dataframe thead th {\n",
       "        text-align: right;\n",
       "    }\n",
       "</style>\n",
       "<table border=\"1\" class=\"dataframe\">\n",
       "  <thead>\n",
       "    <tr style=\"text-align: right;\">\n",
       "      <th></th>\n",
       "      <th>distance</th>\n",
       "      <th>t</th>\n",
       "    </tr>\n",
       "  </thead>\n",
       "  <tbody>\n",
       "    <tr>\n",
       "      <th>1</th>\n",
       "      <td>0.000000</td>\n",
       "      <td>0.00</td>\n",
       "    </tr>\n",
       "    <tr>\n",
       "      <th>2</th>\n",
       "      <td>4.891523</td>\n",
       "      <td>0.25</td>\n",
       "    </tr>\n",
       "    <tr>\n",
       "      <th>3</th>\n",
       "      <td>7.031464</td>\n",
       "      <td>0.50</td>\n",
       "    </tr>\n",
       "    <tr>\n",
       "      <th>4</th>\n",
       "      <td>8.904184</td>\n",
       "      <td>0.75</td>\n",
       "    </tr>\n",
       "    <tr>\n",
       "      <th>5</th>\n",
       "      <td>11.185916</td>\n",
       "      <td>1.00</td>\n",
       "    </tr>\n",
       "  </tbody>\n",
       "</table>\n",
       "</div>"
      ],
      "text/plain": [
       "    distance     t\n",
       "1   0.000000  0.00\n",
       "2   4.891523  0.25\n",
       "3   7.031464  0.50\n",
       "4   8.904184  0.75\n",
       "5  11.185916  1.00"
      ]
     },
     "execution_count": 17,
     "metadata": {},
     "output_type": "execute_result"
    }
   ],
   "source": [
    "lut_frame"
   ]
  },
  {
   "cell_type": "code",
   "execution_count": 18,
   "id": "f966cc2b",
   "metadata": {},
   "outputs": [
    {
     "name": "stdout",
     "output_type": "stream",
     "text": [
      "mapped t to distance 6 is 0.5\n",
      "mapped t to distance 7 is 0.5\n"
     ]
    }
   ],
   "source": [
    "mapped_t = distance_to_t(6, lut)\n",
    "print('mapped t to distance 6 is ' + str(mapped_t))\n",
    "mapped_t = distance_to_t(7, lut)\n",
    "print('mapped t to distance 7 is ' + str(mapped_t))"
   ]
  },
  {
   "cell_type": "markdown",
   "id": "038b036b",
   "metadata": {},
   "source": [
    "When we want a $\\normalsize t$ representing a distance of 7, this LUT is doing a perfect job because the recorded closest distance is 7.03 which is pretty close. However, if we want a $\\normalsize t$ representing a distance of 6 the things get uglier. The returned $\\normalsize t$ value is the same because it's also the closest. This is the tricky part. Depending on the  values that we want, the size of the LUT should be carefully selected. I wonder how It can be automated (if possible) to determine the golden size? Let's see what is going on with a LUT of 30 records:"
   ]
  },
  {
   "cell_type": "code",
   "execution_count": 19,
   "id": "29d363d4",
   "metadata": {},
   "outputs": [
    {
     "data": {
      "text/html": [
       "<div>\n",
       "<style scoped>\n",
       "    .dataframe tbody tr th:only-of-type {\n",
       "        vertical-align: middle;\n",
       "    }\n",
       "\n",
       "    .dataframe tbody tr th {\n",
       "        vertical-align: top;\n",
       "    }\n",
       "\n",
       "    .dataframe thead th {\n",
       "        text-align: right;\n",
       "    }\n",
       "</style>\n",
       "<table border=\"1\" class=\"dataframe\">\n",
       "  <thead>\n",
       "    <tr style=\"text-align: right;\">\n",
       "      <th></th>\n",
       "      <th>distance</th>\n",
       "      <th>t</th>\n",
       "    </tr>\n",
       "  </thead>\n",
       "  <tbody>\n",
       "    <tr>\n",
       "      <th>1</th>\n",
       "      <td>0.000000</td>\n",
       "      <td>0.000000</td>\n",
       "    </tr>\n",
       "    <tr>\n",
       "      <th>2</th>\n",
       "      <td>1.042999</td>\n",
       "      <td>0.034483</td>\n",
       "    </tr>\n",
       "    <tr>\n",
       "      <th>3</th>\n",
       "      <td>1.951360</td>\n",
       "      <td>0.068966</td>\n",
       "    </tr>\n",
       "    <tr>\n",
       "      <th>4</th>\n",
       "      <td>2.736629</td>\n",
       "      <td>0.103448</td>\n",
       "    </tr>\n",
       "    <tr>\n",
       "      <th>5</th>\n",
       "      <td>3.410964</td>\n",
       "      <td>0.137931</td>\n",
       "    </tr>\n",
       "    <tr>\n",
       "      <th>6</th>\n",
       "      <td>3.987350</td>\n",
       "      <td>0.172414</td>\n",
       "    </tr>\n",
       "    <tr>\n",
       "      <th>7</th>\n",
       "      <td>4.479830</td>\n",
       "      <td>0.206897</td>\n",
       "    </tr>\n",
       "    <tr>\n",
       "      <th>8</th>\n",
       "      <td>4.903672</td>\n",
       "      <td>0.241379</td>\n",
       "    </tr>\n",
       "    <tr>\n",
       "      <th>9</th>\n",
       "      <td>5.275227</td>\n",
       "      <td>0.275862</td>\n",
       "    </tr>\n",
       "    <tr>\n",
       "      <th>10</th>\n",
       "      <td>5.611152</td>\n",
       "      <td>0.310345</td>\n",
       "    </tr>\n",
       "    <tr>\n",
       "      <th>11</th>\n",
       "      <td>5.926817</td>\n",
       "      <td>0.344828</td>\n",
       "    </tr>\n",
       "    <tr>\n",
       "      <th>12</th>\n",
       "      <td>6.234435</td>\n",
       "      <td>0.379310</td>\n",
       "    </tr>\n",
       "    <tr>\n",
       "      <th>13</th>\n",
       "      <td>6.541901</td>\n",
       "      <td>0.413793</td>\n",
       "    </tr>\n",
       "    <tr>\n",
       "      <th>14</th>\n",
       "      <td>6.852787</td>\n",
       "      <td>0.448276</td>\n",
       "    </tr>\n",
       "    <tr>\n",
       "      <th>15</th>\n",
       "      <td>7.167133</td>\n",
       "      <td>0.482759</td>\n",
       "    </tr>\n",
       "    <tr>\n",
       "      <th>16</th>\n",
       "      <td>7.482448</td>\n",
       "      <td>0.517241</td>\n",
       "    </tr>\n",
       "    <tr>\n",
       "      <th>17</th>\n",
       "      <td>7.794582</td>\n",
       "      <td>0.551724</td>\n",
       "    </tr>\n",
       "    <tr>\n",
       "      <th>18</th>\n",
       "      <td>8.098438</td>\n",
       "      <td>0.586207</td>\n",
       "    </tr>\n",
       "    <tr>\n",
       "      <th>19</th>\n",
       "      <td>8.388581</td>\n",
       "      <td>0.620690</td>\n",
       "    </tr>\n",
       "    <tr>\n",
       "      <th>20</th>\n",
       "      <td>8.659880</td>\n",
       "      <td>0.655172</td>\n",
       "    </tr>\n",
       "    <tr>\n",
       "      <th>21</th>\n",
       "      <td>8.908376</td>\n",
       "      <td>0.689655</td>\n",
       "    </tr>\n",
       "    <tr>\n",
       "      <th>22</th>\n",
       "      <td>9.132753</td>\n",
       "      <td>0.724138</td>\n",
       "    </tr>\n",
       "    <tr>\n",
       "      <th>23</th>\n",
       "      <td>9.336855</td>\n",
       "      <td>0.758621</td>\n",
       "    </tr>\n",
       "    <tr>\n",
       "      <th>24</th>\n",
       "      <td>9.533104</td>\n",
       "      <td>0.793103</td>\n",
       "    </tr>\n",
       "    <tr>\n",
       "      <th>25</th>\n",
       "      <td>9.743564</td>\n",
       "      <td>0.827586</td>\n",
       "    </tr>\n",
       "    <tr>\n",
       "      <th>26</th>\n",
       "      <td>9.994420</td>\n",
       "      <td>0.862069</td>\n",
       "    </tr>\n",
       "    <tr>\n",
       "      <th>27</th>\n",
       "      <td>10.308916</td>\n",
       "      <td>0.896552</td>\n",
       "    </tr>\n",
       "    <tr>\n",
       "      <th>28</th>\n",
       "      <td>10.705489</td>\n",
       "      <td>0.931034</td>\n",
       "    </tr>\n",
       "    <tr>\n",
       "      <th>29</th>\n",
       "      <td>11.199059</td>\n",
       "      <td>0.965517</td>\n",
       "    </tr>\n",
       "    <tr>\n",
       "      <th>30</th>\n",
       "      <td>11.802447</td>\n",
       "      <td>1.000000</td>\n",
       "    </tr>\n",
       "  </tbody>\n",
       "</table>\n",
       "</div>"
      ],
      "text/plain": [
       "     distance         t\n",
       "1    0.000000  0.000000\n",
       "2    1.042999  0.034483\n",
       "3    1.951360  0.068966\n",
       "4    2.736629  0.103448\n",
       "5    3.410964  0.137931\n",
       "6    3.987350  0.172414\n",
       "7    4.479830  0.206897\n",
       "8    4.903672  0.241379\n",
       "9    5.275227  0.275862\n",
       "10   5.611152  0.310345\n",
       "11   5.926817  0.344828\n",
       "12   6.234435  0.379310\n",
       "13   6.541901  0.413793\n",
       "14   6.852787  0.448276\n",
       "15   7.167133  0.482759\n",
       "16   7.482448  0.517241\n",
       "17   7.794582  0.551724\n",
       "18   8.098438  0.586207\n",
       "19   8.388581  0.620690\n",
       "20   8.659880  0.655172\n",
       "21   8.908376  0.689655\n",
       "22   9.132753  0.724138\n",
       "23   9.336855  0.758621\n",
       "24   9.533104  0.793103\n",
       "25   9.743564  0.827586\n",
       "26   9.994420  0.862069\n",
       "27  10.308916  0.896552\n",
       "28  10.705489  0.931034\n",
       "29  11.199059  0.965517\n",
       "30  11.802447  1.000000"
      ]
     },
     "execution_count": 19,
     "metadata": {},
     "output_type": "execute_result"
    }
   ],
   "source": [
    "lut = get_lut(points, 30)\n",
    "lut_to_dataframe(lut)"
   ]
  },
  {
   "cell_type": "code",
   "execution_count": 20,
   "id": "4bfd399c",
   "metadata": {},
   "outputs": [
    {
     "name": "stdout",
     "output_type": "stream",
     "text": [
      "mapped t to distance 6 is 0.3448275862068966\n",
      "mapped t to distance 7 is 0.4482758620689655\n"
     ]
    }
   ],
   "source": [
    "mapped_t = distance_to_t(6, lut)\n",
    "print('mapped t to distance 6 is ' + str(mapped_t))\n",
    "mapped_t = distance_to_t(7, lut)\n",
    "print('mapped t to distance 7 is ' + str(mapped_t))"
   ]
  },
  {
   "cell_type": "markdown",
   "id": "6ec7a2cd",
   "metadata": {},
   "source": [
    "Sorry for the huge table output but it's important to see the values. Now the closest recorded distance to 7 was 7.17 and to 6 - 5.93. There is an overall better accuracy but the point that I'm trying to make is that for some distances a smaller LUT would actually be better. If the total length is important for some reason, we'll need the bigger table because there it is more accurate. If you want to see what's the performance of this function with a huge size, you can go to the [next section](#Performance-testing). You are probably thinking: \"C'mon dude, it's getting too much... so many things just to evenly space the points and it's still not completely working?\" and yes, you have every right to think so... BUT WAIT! Just one more function and that's it. There will be visuals, I promise.\n",
    "\n",
    "This last function uses almost all previous functions that we defined."
   ]
  },
  {
   "cell_type": "code",
   "execution_count": 21,
   "id": "4c3e0178",
   "metadata": {},
   "outputs": [],
   "source": [
    "def bezier_curve_equal_dist_points(c_points, number_bz_points, lut_size):\n",
    "    \"\"\"\n",
    "    Produces \"n\" bezier points by generating and evenly distributing distance values. \n",
    "    Then converts the distance values to \"t\" values by using a LUT. \n",
    "    That way an arc length parameterization is accomplished.\n",
    "    Arguments:\n",
    "        c_points: control points. Numpy array with coordinates in format [x, y]\n",
    "        number_bz_points: the total number of points to generate. An integer\n",
    "        lut_size: the size (or precision) of the LUT that's going to be used. An integer\n",
    "    Returns:\n",
    "        A numpy array with the coordinates of the calculated bezier points.\n",
    "    \"\"\"\n",
    "    lut = get_lut(c_points, lut_size)\n",
    "    arc_length = lut[len(lut)-1][0]\n",
    "    multiplier = arc_length / (number_bz_points - 1)\n",
    "    bz_points = np.empty([number_bz_points, 2])\n",
    "\n",
    "    for i in range(number_bz_points):\n",
    "        dist = i * multiplier\n",
    "        t = distance_to_t(dist, lut)\n",
    "        interpolated_point = bezier_point_recursive(c_points, t)\n",
    "        bz_points[i] = interpolated_point\n",
    "\n",
    "    return bz_points"
   ]
  },
  {
   "cell_type": "markdown",
   "id": "c6f417af",
   "metadata": {},
   "source": [
    "First, we generate the LUT by passing `lut_precision` which will be the size of the table. The `arc_length` is the total length of the curve. We define `multiplier` the same way we did in the `get_lut` function and the explanation is the same. After that we use it in the loop to generate the `dist` variable. The `dist` on the other hand is passed to our mapper function to get the $\\normalsize t$. Finally it is passed to the recursive function to calculate the $BZ$ point which is then stored in `bz_points`. See how everything comes together. It still annoys me that the recursive function is rendered too many times. We'll talk about optimization at the end. First, let's just see this curve plotted, right?"
   ]
  },
  {
   "cell_type": "code",
   "execution_count": 22,
   "id": "1cc1b416",
   "metadata": {},
   "outputs": [
    {
     "data": {
      "image/png": "[encoded data removed]",
      "text/plain": [
       "<Figure size 432x288 with 1 Axes>"
      ]
     },
     "metadata": {
      "needs_background": "light"
     },
     "output_type": "display_data"
    },
    {
     "data": {
      "image/png": "[encoded data removed]",
      "text/plain": [
       "<Figure size 432x288 with 1 Axes>"
      ]
     },
     "metadata": {
      "needs_background": "light"
     },
     "output_type": "display_data"
    }
   ],
   "source": [
    "bz_points = bezier_curve_equal_dist_points(points, 30, 2000)\n",
    "plot_bezier_coordinates(points, bz_points)\n",
    "plot_bezier_coordinates(points, bz_points, cp_lines=False, equal_aspect=True, title=\"BZ points only\")"
   ]
  },
  {
   "cell_type": "markdown",
   "id": "e2d12a4f",
   "metadata": {},
   "source": [
    "Now that's what I was looking for! I suggest you don't stare at it too much because it's still not perfect, even when we have 2000 generated points to choose from. That's the sad reality. With the current precision the coordinates are usable for something like moving an object with relatively the same speed. Let's see an example with 10 points but with different precision."
   ]
  },
  {
   "cell_type": "code",
   "execution_count": 23,
   "id": "c4f50bb8",
   "metadata": {},
   "outputs": [
    {
     "data": {
      "image/png": "[encoded data removed]",
      "text/plain": [
       "<Figure size 432x288 with 1 Axes>"
      ]
     },
     "metadata": {
      "needs_background": "light"
     },
     "output_type": "display_data"
    },
    {
     "data": {
      "image/png": "[encoded data removed]",
      "text/plain": [
       "<Figure size 432x288 with 1 Axes>"
      ]
     },
     "metadata": {
      "needs_background": "light"
     },
     "output_type": "display_data"
    }
   ],
   "source": [
    "bz_points = bezier_curve_equal_dist_points(points, 20, 20)\n",
    "plot_bezier_coordinates(points, bz_points, title=\"Generated with LUT of size 20\")\n",
    "bz_points = bezier_curve_equal_dist_points(points, 20, 200) # LUT with size of 200\n",
    "plot_bezier_coordinates(points, bz_points, title=\"Generated with LUT of size 200\")"
   ]
  },
  {
   "cell_type": "markdown",
   "id": "bbeebd4b",
   "metadata": {},
   "source": [
    "When we find a pair of distances in the LUT we choose the one with the closest distance to our input distance. That's generally a good idea but when the precision is low it can cause some disturbance. You can see what I mean in the first picture above. Maybe it would have been a better idea to render the other coordinate from the pair but that's the downside of this approach."
   ]
  },
  {
   "cell_type": "markdown",
   "id": "0b6471f2",
   "metadata": {},
   "source": [
    "#### Performance testing"
   ]
  },
  {
   "cell_type": "markdown",
   "id": "5629fb3c",
   "metadata": {},
   "source": [
    "The most interesting thing to measure is of course our LUT generating function. We can test how much time it takes to generate a table with around 5000 records for a Bézier curve with 10 control points. Then we will see how much time it added by the function using it to render the points equally spaced. It should be interesting. Let's go!"
   ]
  },
  {
   "cell_type": "code",
   "execution_count": 24,
   "id": "09087776",
   "metadata": {},
   "outputs": [
    {
     "name": "stdout",
     "output_type": "stream",
     "text": [
      "14.5 ms ± 66 µs per loop (mean ± std. dev. of 7 runs, 100 loops each)\n",
      "721 ms ± 1.84 ms per loop (mean ± std. dev. of 7 runs, 1 loop each)\n"
     ]
    }
   ],
   "source": [
    "points = np.array([[0,0],[-2,8],[8,-10],[18,10],[22,0],[30,12],[38,16], [24,0], [35,-5], [40, 5]])\n",
    "\n",
    "# executing the function 10 times to average out how much time it takes\n",
    "# LUT with a size of 100\n",
    "%timeit get_lut(points, 100)\n",
    "\n",
    "# LUT with a size of 5000\n",
    "%timeit get_lut(points, 5000)"
   ]
  },
  {
   "cell_type": "markdown",
   "id": "da2914ef",
   "metadata": {},
   "source": [
    "As you can see the time difference is not small. The generation of a LUT with a precision of 5000 is around 700ms slower than the LUT with precision of 100. If we are going to use this function for some serious stuff, we should consider the size carefully. But how much time it takes to get the bezier points within an equal distance? We are going to measure `bezier_curve_equal_dist_points` which uses most of the functions in the project so it must be heavy, right? We can test it in several ways by requesting a bézier with only a few points but a huge LUT or the opposite. Sure, we can pass a huge numbers for everything and see how it behaves like that as well."
   ]
  },
  {
   "cell_type": "code",
   "execution_count": 25,
   "id": "6403e538",
   "metadata": {},
   "outputs": [
    {
     "name": "stdout",
     "output_type": "stream",
     "text": [
      "Huge LUT but a bézier curve with small number of points:\n",
      "737 ms ± 3.75 ms per loop (mean ± std. dev. of 7 runs, 1 loop each)\n",
      "Small LUT but a bézier curve with many points:\n",
      "207 ms ± 612 µs per loop (mean ± std. dev. of 7 runs, 1 loop each)\n",
      "Huge LUT and a bézier curve with many points:\n",
      "1.82 s ± 8.13 ms per loop (mean ± std. dev. of 7 runs, 1 loop each)\n"
     ]
    }
   ],
   "source": [
    "print(\"Huge LUT but a bézier curve with small number of points:\")\n",
    "%timeit bezier_curve_equal_dist_points(points, 20, 5000)\n",
    "\n",
    "print(\"Small LUT but a bézier curve with many points:\")\n",
    "%timeit bezier_curve_equal_dist_points(points, 1000, 100) # that's actually pointless in practice\n",
    "\n",
    "print(\"Huge LUT and a bézier curve with many points:\")\n",
    "%timeit bezier_curve_equal_dist_points(points, 1000, 5000)"
   ]
  },
  {
   "cell_type": "markdown",
   "id": "ecb62600",
   "metadata": {},
   "source": [
    "I'm surprised! The heaviest execution with 1000 bézier points and a 5000 records table took a little bit less then 2 second. I think it's acceptable for such unoptimized function, hehe.\n",
    "\n",
    "Let's talk about optimization for a moment. There are mostly things that can be changed in the solution for the second problem. We can get rid of our `get_lut` function or more specifically merge the logic with `bezier_curve_equal_dist_points`. We can decide whether we want to store a point coordinates directly in our result array in the proccess of generate the LUT by passing a desired distance between the points and then the function will be deciding which points to render. Because the function uses the recursive calculation we have all the data we need. That way we'll not store every value in a LUT and more memory will be saved. Also, It will be lighter because now we execute the recursive function multiple times to generate the LUT and then again, multiple times to produce the final points which is kinda noobish. In a simple words - we can reduce the execution of the recursive function. The more I think about it, more ideas pop up. Beware of the overthinking problem where you can overly complicate the code just like when you are doing an abstraction following the OOP principles. There is always something that unsettles you and you want to change it. Or is it just me?"
   ]
  },
  {
   "cell_type": "markdown",
   "id": "bb03bb91",
   "metadata": {},
   "source": [
    "#### Playing around"
   ]
  },
  {
   "cell_type": "markdown",
   "id": "7e9207a5",
   "metadata": {},
   "source": [
    "What's the point of making these things if we don't play with them a bit. However, I don't want to fill this notebook with too much plotting. Feel free to take the code and do your own curves. You can adjust the plotting function to plot multiple curves so you can later connect them and do one big curve. Here I'm generating more control points to make a curve like a rollercoaster track:"
   ]
  },
  {
   "cell_type": "code",
   "execution_count": 26,
   "id": "7da60840",
   "metadata": {},
   "outputs": [
    {
     "data": {
      "image/png": "[encoded data removed]",
      "text/plain": [
       "<Figure size 432x288 with 1 Axes>"
      ]
     },
     "metadata": {
      "needs_background": "light"
     },
     "output_type": "display_data"
    }
   ],
   "source": [
    "# using the points from the performance measurement section above\n",
    "curve_equal_dist = bezier_curve_equal_dist_points(points, 50, 500)\n",
    "plot_bezier_coordinates(points, curve_equal_dist, equal_aspect = True, title=\"Bezier curve with 10 control points\")"
   ]
  },
  {
   "cell_type": "markdown",
   "id": "1d7d86fe",
   "metadata": {},
   "source": [
    "Also, we can position the control points in a way to draw a circle:"
   ]
  },
  {
   "cell_type": "code",
   "execution_count": 27,
   "id": "167becb0",
   "metadata": {},
   "outputs": [
    {
     "data": {
      "image/png": "[encoded data removed]",
      "text/plain": [
       "<Figure size 432x288 with 1 Axes>"
      ]
     },
     "metadata": {
      "needs_background": "light"
     },
     "output_type": "display_data"
    }
   ],
   "source": [
    "circle_points = np.array([[-2.5,0],[-2.5,5],[5.2,5],[5.2,0],[5.2,-5],[-2.5,-5],[-2.5,0]])\n",
    "curve_equal_dist = bezier_curve_equal_dist_points(circle_points, 50, 500)\n",
    "plot_bezier_coordinates(circle_points, curve_equal_dist, xlim=[-5,6], ylim=[-5,5], equal_aspect = True, title=\"A circle plot\")"
   ]
  },
  {
   "cell_type": "markdown",
   "id": "32466cd2",
   "metadata": {},
   "source": [
    "#### Final thoughts"
   ]
  },
  {
   "cell_type": "markdown",
   "id": "cac70a7b",
   "metadata": {},
   "source": [
    "The Bezier curves are so interesting and a lot of experimenting can be done with them. Once implemented, they can be used in a numerous ways. I honestly can't wait to optimize this implementation and use it in Unity or here in Python in combination with some cool libraries. I encourage you to do so as well. Those curves were my introduction to math and I'm happy that I found something interesting for me to explore and learn some concepts along the way. Although, there isn't any super heavy head crushing math involved in this project, it thought me a lesson. I discovered a method of learning math more easily. From now on I'll try to pick up problems that can be solved using math concept that I'm not good at and try to get used to it that way. Not trying to turn the project into a self-help/motivational read but I think it's a great advice. \n",
    "Anyways, stay curious!"
   ]
  }
 ],
 "metadata": {
  "kernelspec": {
   "display_name": "Python 3 (ipykernel)",
   "language": "python",
   "name": "python3"
  },
  "language_info": {
   "codemirror_mode": {
    "name": "ipython",
    "version": 3
   },
   "file_extension": ".py",
   "mimetype": "text/x-python",
   "name": "python",
   "nbconvert_exporter": "python",
   "pygments_lexer": "ipython3",
   "version": "3.9.12"
  }
 },
 "nbformat": 4,
 "nbformat_minor": 5
}
